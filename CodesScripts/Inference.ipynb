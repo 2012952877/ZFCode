{
  "cells": [
    {
      "cell_type": "code",
      "source": [
        "from azureml.core import Workspace,Dataset\r\n",
        "\r\n",
        "ws = Workspace.from_config()\r\n",
        "print(ws.name, ws.resource_group, ws.location, ws.subscription_id, sep='\\n')"
      ],
      "outputs": [
        {
          "output_type": "stream",
          "name": "stdout",
          "text": "zf-poc-hp\nzf-aml-hp\naustraliaeast\n2bd536a1-23a8-4193-be1e-219890bbd881\n"
        }
      ],
      "execution_count": 4,
      "metadata": {
        "gather": {
          "logged": 1634707386199
        }
      }
    },
    {
      "cell_type": "code",
      "source": [
        "from azureml.core.model import Model\r\n",
        "from azureml.core import Environment\r\n",
        "\r\n",
        "pytorch_env = Environment.from_conda_specification(name = 'pytorch-env', file_path = './conda_dependencies.yml')"
      ],
      "outputs": [],
      "execution_count": 5,
      "metadata": {
        "jupyter": {
          "source_hidden": false,
          "outputs_hidden": false
        },
        "nteract": {
          "transient": {
            "deleting": false
          }
        },
        "gather": {
          "logged": 1634707388349
        }
      }
    },
    {
      "cell_type": "code",
      "source": [
        "model=Model(ws,\"pytorch-BD\")"
      ],
      "outputs": [],
      "execution_count": 8,
      "metadata": {
        "jupyter": {
          "source_hidden": false,
          "outputs_hidden": false
        },
        "nteract": {
          "transient": {
            "deleting": false
          }
        },
        "gather": {
          "logged": 1634708328954
        }
      }
    },
    {
      "cell_type": "code",
      "source": [
        "from azureml.core.webservice import AciWebservice\r\n",
        "from azureml.core.model import InferenceConfig\r\n",
        "from azureml.core.webservice import Webservice\r\n",
        "from azureml.core.model import Model\r\n",
        "\r\n",
        "inference_config = InferenceConfig(entry_script=\"pred_score.py\", source_directory='.',environment=pytorch_env)\r\n",
        "\r\n",
        "aciconfig = AciWebservice.deploy_configuration(cpu_cores=1, \r\n",
        "                                               memory_gb=1, \r\n",
        "                                               tags={'framework':'pytorch'},\r\n",
        "                                               description='ZF POC with PyTorch')\r\n",
        "\r\n",
        "service = Model.deploy(workspace=ws, \r\n",
        "                           name='zf-ssss-aci', \r\n",
        "                           models=[model], \r\n",
        "                           inference_config=inference_config, \r\n",
        "                           deployment_config=aciconfig,\r\n",
        "                           overwrite=True)\r\n",
        "service.wait_for_deployment(True)\r\n",
        "#print(service.get_logs())"
      ],
      "outputs": [
        {
          "output_type": "stream",
          "name": "stdout",
          "text": "Tips: You can try get_logs(): https://aka.ms/debugimage#dockerlog or local deployment: https://aka.ms/debugimage#debug-locally to debug if deployment takes longer than 10 minutes.\nRunning\n2021-10-20 05:39:41+00:00 Creating Container Registry if not exists.\n2021-10-20 05:39:41+00:00 Registering the environment.\n2021-10-20 05:39:46+00:00 Use the existing image.\n2021-10-20 05:39:46+00:00 Generating deployment configuration.\n2021-10-20 05:39:47+00:00 Submitting deployment to compute..\n2021-10-20 05:39:57+00:00 Checking the status of deployment zf-ssss-aci..\n2021-10-20 05:43:13+00:00 Checking the status of inference endpoint zf-ssss-aci.\nSucceeded\nACI service creation operation finished, operation \"Succeeded\"\n"
        }
      ],
      "execution_count": 9,
      "metadata": {
        "jupyter": {
          "source_hidden": false,
          "outputs_hidden": false
        },
        "nteract": {
          "transient": {
            "deleting": false
          }
        },
        "gather": {
          "logged": 1634708598231
        }
      }
    }
  ],
  "metadata": {
    "kernelspec": {
      "name": "python3-azureml",
      "language": "python",
      "display_name": "Python 3.6 - AzureML"
    },
    "language_info": {
      "name": "python",
      "version": "3.6.9",
      "mimetype": "text/x-python",
      "codemirror_mode": {
        "name": "ipython",
        "version": 3
      },
      "pygments_lexer": "ipython3",
      "nbconvert_exporter": "python",
      "file_extension": ".py"
    },
    "kernel_info": {
      "name": "python3-azureml"
    },
    "microsoft": {
      "host": {
        "AzureML": {
          "notebookHasBeenCompleted": true
        }
      }
    },
    "nteract": {
      "version": "nteract-front-end@1.0.0"
    }
  },
  "nbformat": 4,
  "nbformat_minor": 2
}